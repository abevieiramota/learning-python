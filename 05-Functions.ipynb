{
 "metadata": {
  "name": "",
  "signature": "sha256:3cb0c916dd71318a3cc4bb3f7c6d90b2a056d8cf58e2ec932928ad7ee787907a"
 },
 "nbformat": 3,
 "nbformat_minor": 0,
 "worksheets": [
  {
   "cells": [
    {
     "cell_type": "heading",
     "level": 4,
     "metadata": {},
     "source": [
      "Defini\u00e7\u00e3o"
     ]
    },
    {
     "cell_type": "code",
     "collapsed": false,
     "input": [
      "def print_two(a, b):\n",
      "    \n",
      "    print a, b\n",
      "\n",
      "def print_all(*a):\n",
      "    \n",
      "    print type(a)\n",
      "    print a"
     ],
     "language": "python",
     "metadata": {},
     "outputs": [],
     "prompt_number": 4
    },
    {
     "cell_type": "heading",
     "level": 4,
     "metadata": {},
     "source": [
      "Passagem de par\u00e2metro"
     ]
    },
    {
     "cell_type": "code",
     "collapsed": false,
     "input": [
      "def add_to(a):\n",
      "    \n",
      "    a += 10\n",
      "    \n",
      "a = 10\n",
      "add_to(a)\n",
      "print a"
     ],
     "language": "python",
     "metadata": {},
     "outputs": [
      {
       "output_type": "stream",
       "stream": "stdout",
       "text": [
        "10\n"
       ]
      }
     ],
     "prompt_number": 6
    },
    {
     "cell_type": "code",
     "collapsed": false,
     "input": [
      "class Point:\n",
      "    \n",
      "    def __init__(self, x, y):\n",
      "        self.x = x\n",
      "        self.y = y\n",
      "        \n",
      "p = Point(10, 20)\n",
      "def add_to(p):\n",
      "    p.x = p.x + 10\n",
      "    p.y = p.y + 10\n",
      "\n",
      "print 'antes', p.x, p.y\n",
      "add_to(p)\n",
      "print 'depois', p.x, p.y"
     ],
     "language": "python",
     "metadata": {},
     "outputs": [
      {
       "output_type": "stream",
       "stream": "stdout",
       "text": [
        "antes 10 20\n",
        "depois 20 30\n"
       ]
      }
     ],
     "prompt_number": 8
    },
    {
     "cell_type": "heading",
     "level": 4,
     "metadata": {},
     "source": [
      "Lambda"
     ]
    },
    {
     "cell_type": "code",
     "collapsed": false,
     "input": [
      "(lambda x: x)('oi')"
     ],
     "language": "python",
     "metadata": {},
     "outputs": [
      {
       "metadata": {},
       "output_type": "pyout",
       "prompt_number": 2,
       "text": [
        "'oi'"
       ]
      }
     ],
     "prompt_number": 2
    },
    {
     "cell_type": "code",
     "collapsed": false,
     "input": [
      "(lambda x,y: x+y)(1,2)"
     ],
     "language": "python",
     "metadata": {},
     "outputs": [
      {
       "metadata": {},
       "output_type": "pyout",
       "prompt_number": 3,
       "text": [
        "3"
       ]
      }
     ],
     "prompt_number": 3
    },
    {
     "cell_type": "heading",
     "level": 4,
     "metadata": {},
     "source": [
      "Yield"
     ]
    },
    {
     "cell_type": "code",
     "collapsed": false,
     "input": [
      "def do(l):\n",
      "    for x in l:\n",
      "        yield x*x"
     ],
     "language": "python",
     "metadata": {},
     "outputs": [],
     "prompt_number": 6
    },
    {
     "cell_type": "code",
     "collapsed": false,
     "input": [
      "for x in do([1,2,3]): # generator\n",
      "    print x"
     ],
     "language": "python",
     "metadata": {},
     "outputs": [
      {
       "output_type": "stream",
       "stream": "stdout",
       "text": [
        "1\n",
        "4\n",
        "9\n"
       ]
      }
     ],
     "prompt_number": 9
    },
    {
     "cell_type": "heading",
     "level": 4,
     "metadata": {},
     "source": [
      "Params"
     ]
    },
    {
     "cell_type": "code",
     "collapsed": false,
     "input": [
      "def soma(a, b):\n",
      "    return a+b\n",
      "\n",
      "print soma(*[1,2])\n",
      "print soma(**{'a':1, 'b':2})"
     ],
     "language": "python",
     "metadata": {},
     "outputs": [
      {
       "output_type": "stream",
       "stream": "stdout",
       "text": [
        "3\n",
        "3\n"
       ]
      }
     ],
     "prompt_number": 2
    },
    {
     "cell_type": "code",
     "collapsed": false,
     "input": [],
     "language": "python",
     "metadata": {},
     "outputs": []
    }
   ],
   "metadata": {}
  }
 ]
}