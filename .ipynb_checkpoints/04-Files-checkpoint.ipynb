{
 "metadata": {
  "name": "",
  "signature": "sha256:cf36038f3d57a01c73cc4a120a1c8775456870de751c771358e1c1ccff6c2848"
 },
 "nbformat": 3,
 "nbformat_minor": 0,
 "worksheets": [
  {
   "cells": [
    {
     "cell_type": "heading",
     "level": 4,
     "metadata": {},
     "source": [
      "Reading"
     ]
    },
    {
     "cell_type": "code",
     "collapsed": false,
     "input": [
      "%%file bom_dia.txt\n",
      "bom dia galera\n",
      "que \u00f3timo dia!"
     ],
     "language": "python",
     "metadata": {},
     "outputs": [
      {
       "output_type": "stream",
       "stream": "stdout",
       "text": [
        "Overwriting bom_dia.txt\n"
       ]
      }
     ],
     "prompt_number": 27
    },
    {
     "cell_type": "code",
     "collapsed": false,
     "input": [
      "f = open('bom_dia.txt')\n",
      "content = f.read()\n",
      "f.close()\n",
      "print content"
     ],
     "language": "python",
     "metadata": {},
     "outputs": [
      {
       "output_type": "stream",
       "stream": "stdout",
       "text": [
        "bom dia galera\n",
        "que \u00f3timo dia!\n"
       ]
      }
     ],
     "prompt_number": 3
    },
    {
     "cell_type": "code",
     "collapsed": false,
     "input": [
      "open?"
     ],
     "language": "python",
     "metadata": {},
     "outputs": [],
     "prompt_number": 6
    },
    {
     "cell_type": "code",
     "collapsed": false,
     "input": [
      "[x for x in dir(file) if not x.startswith('__')]"
     ],
     "language": "python",
     "metadata": {},
     "outputs": [
      {
       "metadata": {},
       "output_type": "pyout",
       "prompt_number": 11,
       "text": [
        "['close',\n",
        " 'closed',\n",
        " 'encoding',\n",
        " 'errors',\n",
        " 'fileno',\n",
        " 'flush',\n",
        " 'isatty',\n",
        " 'mode',\n",
        " 'name',\n",
        " 'newlines',\n",
        " 'next',\n",
        " 'read',\n",
        " 'readinto',\n",
        " 'readline',\n",
        " 'readlines',\n",
        " 'seek',\n",
        " 'softspace',\n",
        " 'tell',\n",
        " 'truncate',\n",
        " 'write',\n",
        " 'writelines',\n",
        " 'xreadlines']"
       ]
      }
     ],
     "prompt_number": 11
    },
    {
     "cell_type": "heading",
     "level": 5,
     "metadata": {},
     "source": [
      "Readline"
     ]
    },
    {
     "cell_type": "code",
     "collapsed": false,
     "input": [
      "f = open('bom_dia.txt')\n",
      "print f.readline(),\n",
      "print f.readline()\n",
      "f.close()"
     ],
     "language": "python",
     "metadata": {},
     "outputs": [
      {
       "output_type": "stream",
       "stream": "stdout",
       "text": [
        "bom dia galera\n",
        "que \u00f3timo dia!\n"
       ]
      }
     ],
     "prompt_number": 13
    },
    {
     "cell_type": "heading",
     "level": 5,
     "metadata": {},
     "source": [
      "Truncate"
     ]
    },
    {
     "cell_type": "code",
     "collapsed": false,
     "input": [
      "f.truncate?"
     ],
     "language": "python",
     "metadata": {},
     "outputs": [],
     "prompt_number": 20
    },
    {
     "cell_type": "code",
     "collapsed": false,
     "input": [
      "f = open('bom_dia.txt', 'w')\n",
      "f.truncate()\n",
      "f.close()"
     ],
     "language": "python",
     "metadata": {},
     "outputs": [],
     "prompt_number": 30
    },
    {
     "cell_type": "code",
     "collapsed": false,
     "input": [
      "f = open('bom_dia.txt')\n",
      "print f.read()\n",
      "f.close()"
     ],
     "language": "python",
     "metadata": {},
     "outputs": [
      {
       "output_type": "stream",
       "stream": "stdout",
       "text": [
        "\n"
       ]
      }
     ],
     "prompt_number": 31
    },
    {
     "cell_type": "heading",
     "level": 4,
     "metadata": {},
     "source": [
      "Writing"
     ]
    },
    {
     "cell_type": "code",
     "collapsed": false,
     "input": [
      "f = open('bom_dia.txt', 'w')\n",
      "f.write('ol\u00e1')\n",
      "f.close()\n",
      "f = open('bom_dia.txt', 'r+') # w+ -> escrita e leitura. sem o + n\u00e3o pode escrever, e o arquivo \u00e9 truncado na leitura\n",
      "print f.read()\n",
      "f.write('rs')\n",
      "f.close()\n",
      "f = open('bom_dia.txt')\n",
      "print f.read()\n",
      "f.close()\n",
      "f = open('bom_dia.txt', 'r+')\n",
      "f.write('hihi')\n",
      "f.close()\n",
      "f = open('bom_dia.txt')\n",
      "print f.read()\n",
      "f.close()"
     ],
     "language": "python",
     "metadata": {},
     "outputs": [
      {
       "output_type": "stream",
       "stream": "stdout",
       "text": [
        "ol\u00e1\n",
        "ol\u00e1rs\n",
        "hihirs\n"
       ]
      }
     ],
     "prompt_number": 47
    },
    {
     "cell_type": "code",
     "collapsed": false,
     "input": [
      "f.close?"
     ],
     "language": "python",
     "metadata": {},
     "outputs": [],
     "prompt_number": 49
    },
    {
     "cell_type": "heading",
     "level": 4,
     "metadata": {},
     "source": [
      "With"
     ]
    },
    {
     "cell_type": "code",
     "collapsed": false,
     "input": [
      "with open('bom_dia.txt') as f:\n",
      "    print f.read()\n",
      "# controla o ciclo de vida do arquivo"
     ],
     "language": "python",
     "metadata": {},
     "outputs": [
      {
       "output_type": "stream",
       "stream": "stdout",
       "text": [
        "\n"
       ]
      }
     ],
     "prompt_number": 2
    },
    {
     "cell_type": "code",
     "collapsed": false,
     "input": [],
     "language": "python",
     "metadata": {},
     "outputs": []
    }
   ],
   "metadata": {}
  }
 ]
}