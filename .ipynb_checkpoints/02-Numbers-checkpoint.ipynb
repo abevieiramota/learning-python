{
 "metadata": {
  "name": "",
  "signature": "sha256:0357fc2638d393585189eb6304a9ca8a9672dd0f3f09c6a6aaa3529e62413027"
 },
 "nbformat": 3,
 "nbformat_minor": 0,
 "worksheets": [
  {
   "cells": [
    {
     "cell_type": "heading",
     "level": 4,
     "metadata": {},
     "source": [
      "Operadores"
     ]
    },
    {
     "cell_type": "code",
     "collapsed": false,
     "input": [
      "print \"1 + 2=\", 1 + 2\n",
      "print \"1 - 2 =\", 1 - 2\n",
      "print \"1 / 2 =\", 1 / 2 # notar que a divis\u00e3o \u00e9 inteira\n",
      "print \"1 / 2. =\", 1 / 2. # uma das formas de tornar a divis\u00e3o real\n",
      "print \"1 * 2 =\", 1 * 2\n",
      "print \"1 % 2 =\", 1 % 2\n",
      "print \"1 < 2 =\", 1 < 2\n",
      "print \"1 > 2 =\", 1 > 2\n",
      "print \"1 <= 2 =\", 1 <= 2\n",
      "print \"1 >= 2 =\", 1 >= 2\n",
      "print \"2**3 = \", 2**3\n",
      "print \"1 // 2 = \", 1 // 2\n",
      "\n",
      "a = 1\n",
      "a += 1\n",
      "print a"
     ],
     "language": "python",
     "metadata": {},
     "outputs": [
      {
       "output_type": "stream",
       "stream": "stdout",
       "text": [
        "1 + 2= 3\n",
        "1 - 2 = -1\n",
        "1 / 2 = 0\n",
        "1 / 2. = 0.5\n",
        "1 * 2 = 2\n",
        "1 % 2 = 1\n",
        "1 < 2 = True\n",
        "1 > 2 = False\n",
        "1 <= 2 = True\n",
        "1 >= 2 = False\n",
        "2**3 =  8\n",
        "1 // 2 =  0\n",
        "2\n"
       ]
      }
     ],
     "prompt_number": 1
    },
    {
     "cell_type": "heading",
     "level": 5,
     "metadata": {},
     "source": [
      "Divis\u00e3o"
     ]
    },
    {
     "cell_type": "markdown",
     "metadata": {},
     "source": [
      "A divis\u00e3o de inteiros em Python 2 descarta o resto da divis\u00e3o inteira dos operandos. N\u00e3o confundir com arredondamento."
     ]
    },
    {
     "cell_type": "code",
     "collapsed": false,
     "input": [
      "print 2/3, 2/3.\n",
      "print 1/3, 1/3."
     ],
     "language": "python",
     "metadata": {},
     "outputs": [
      {
       "output_type": "stream",
       "stream": "stdout",
       "text": [
        "0 0.666666666667\n",
        "0 0.333333333333\n"
       ]
      }
     ],
     "prompt_number": 12
    },
    {
     "cell_type": "heading",
     "level": 5,
     "metadata": {},
     "source": [
      "Preced\u00eancia"
     ]
    },
    {
     "cell_type": "markdown",
     "metadata": {},
     "source": [
      "**PEMDAS**  \n",
      "**P**arentheses > **E**xponents > **M**ultiplication > **D**ivision > **A**ddition > **S**ubtraction"
     ]
    },
    {
     "cell_type": "code",
     "collapsed": false,
     "input": [
      "print 1 * 2 + 3 # * > +\n",
      "print 5 % 2 + 3 # % > +"
     ],
     "language": "python",
     "metadata": {},
     "outputs": [
      {
       "output_type": "stream",
       "stream": "stdout",
       "text": [
        "5\n",
        "4\n"
       ]
      }
     ],
     "prompt_number": 8
    },
    {
     "cell_type": "code",
     "collapsed": false,
     "input": [
      "print 10 - 2 + 3 - 6"
     ],
     "language": "python",
     "metadata": {},
     "outputs": [
      {
       "output_type": "stream",
       "stream": "stdout",
       "text": [
        "5\n"
       ]
      }
     ],
     "prompt_number": 2
    },
    {
     "cell_type": "code",
     "collapsed": false,
     "input": [],
     "language": "python",
     "metadata": {},
     "outputs": []
    }
   ],
   "metadata": {}
  }
 ]
}