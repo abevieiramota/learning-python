{
 "metadata": {
  "name": "",
  "signature": "sha256:f71f3a0507394876d4bd4bf7a55de325d06e49cc76b6e84e60a435230fd0634b"
 },
 "nbformat": 3,
 "nbformat_minor": 0,
 "worksheets": [
  {
   "cells": [
    {
     "cell_type": "heading",
     "level": 5,
     "metadata": {},
     "source": [
      "Defini\u00e7\u00e3o"
     ]
    },
    {
     "cell_type": "code",
     "collapsed": false,
     "input": [
      "print \"bom dia\"\n",
      "print 'bom dia'\n",
      "print \"\"\"\n",
      "bom dia\n",
      "\"\"\"\n",
      "print \"bom dia, 'Fulano'\"\n",
      "print 'bom dia, \"Fulano\"'\n",
      "print \"\"\"\n",
      "bom dia, 'Fulano\"\n",
      "\"\"\"\n",
      "print \"bom dia, \\\"Fulano\\\"\"\n",
      "print 'bom dia, \\'Fulano\\''\n",
      "print '\\toi'\n",
      "print r'\\toi'"
     ],
     "language": "python",
     "metadata": {},
     "outputs": [
      {
       "output_type": "stream",
       "stream": "stdout",
       "text": [
        "bom dia\n",
        "bom dia\n",
        "\n",
        "bom dia\n",
        "\n",
        "bom dia, 'Fulano'\n",
        "bom dia, \"Fulano\"\n",
        "\n",
        "bom dia, 'Fulano\"\n",
        "\n",
        "bom dia, \"Fulano\"\n",
        "bom dia, 'Fulano'\n",
        "\toi\n",
        "\\toi\n"
       ]
      }
     ],
     "prompt_number": 27
    },
    {
     "cell_type": "heading",
     "level": 4,
     "metadata": {},
     "source": [
      "Print"
     ]
    },
    {
     "cell_type": "code",
     "collapsed": false,
     "input": [
      "print \"oi\"\n",
      "print \"oi\", \"tudo bem\"\n",
      "print \"oi\"+\"tudo bem\""
     ],
     "language": "python",
     "metadata": {},
     "outputs": [
      {
       "output_type": "stream",
       "stream": "stdout",
       "text": [
        "oi\n",
        "oi tudo bem\n",
        "oitudo bem\n"
       ]
      }
     ],
     "prompt_number": 2
    },
    {
     "cell_type": "heading",
     "level": 4,
     "metadata": {},
     "source": [
      "Print formats"
     ]
    },
    {
     "cell_type": "heading",
     "level": 5,
     "metadata": {},
     "source": [
      "Old style"
     ]
    },
    {
     "cell_type": "code",
     "collapsed": false,
     "input": [
      "print \"oi %s tudo bem\" % \"Abelardo\"\n",
      "print \"tenho %d anos\" % 24"
     ],
     "language": "python",
     "metadata": {},
     "outputs": [
      {
       "output_type": "stream",
       "stream": "stdout",
       "text": [
        "oi Abelardo tudo bem\n",
        "tenho 24 anos\n"
       ]
      }
     ],
     "prompt_number": 3
    },
    {
     "cell_type": "code",
     "collapsed": false,
     "input": [
      "# TODO: ver com detalhes?"
     ],
     "language": "python",
     "metadata": {},
     "outputs": [],
     "prompt_number": 4
    },
    {
     "cell_type": "markdown",
     "metadata": {},
     "source": [
      "**New style** - [doc python 2](https://docs.python.org/2/library/string.html)"
     ]
    },
    {
     "cell_type": "markdown",
     "metadata": {},
     "source": [
      "Format strings contain **\u201creplacement fields\u201d** surrounded by curly braces **{}**. Anything that is not contained in braces is considered literal text, which is copied unchanged to the output. If you need to include a brace character in the literal text, it can be escaped by doubling: {{ and }}."
     ]
    },
    {
     "cell_type": "markdown",
     "metadata": {},
     "source": [
      "- [diferen\u00e7a entre __str__ e __repr__](http://stackoverflow.com/questions/1436703/difference-between-str-and-repr-in-python)"
     ]
    },
    {
     "cell_type": "code",
     "collapsed": false,
     "input": [
      "print \"Oi {0} tudo bem\".format(\"Abelardo\")\n",
      "print \"Oi {} tudo bem\".format(\"Abelardo\") # \u00edndice impl\u00edcito\n",
      "print \"{0} {1}\".format(\"oi\", \"tudo\")\n",
      "print \"{} {}\".format(\"oi\", \"tudo\") # \u00edndice impl\u00edcito\n",
      "print \"{a} {b}\".format(a=\"oi\", b=\"tudo\") # keyword"
     ],
     "language": "python",
     "metadata": {},
     "outputs": [
      {
       "output_type": "stream",
       "stream": "stdout",
       "text": [
        "Oi Abelardo tudo bem\n",
        "Oi Abelardo tudo bem\n",
        "oi tudo\n",
        "oi tudo\n",
        "oi tudo\n"
       ]
      }
     ],
     "prompt_number": 5
    },
    {
     "cell_type": "code",
     "collapsed": false,
     "input": [
      "# attribute\n",
      "print '\\n>attribute'\n",
      "class Pessoa:\n",
      "    def __init__(self, nome):\n",
      "        self.nome = nome\n",
      "    \n",
      "    def __format__(self, *args, **kwargs):\n",
      "        return \"Meu nome \u00e9 {}\".format(self.nome)\n",
      "        \n",
      "ab = Pessoa(\"Abelardo\")\n",
      "print \"Meu nome \u00e9 {0.nome}\".format(ab)\n",
      "print \"Meu nome \u00e9 {.nome}\".format(ab)"
     ],
     "language": "python",
     "metadata": {},
     "outputs": [
      {
       "output_type": "stream",
       "stream": "stdout",
       "text": [
        "\n",
        ">attribute\n",
        "Meu nome \u00e9 Abelardo\n",
        "Meu nome \u00e9 Abelardo\n"
       ]
      }
     ],
     "prompt_number": 6
    },
    {
     "cell_type": "code",
     "collapsed": false,
     "input": [
      "# positional\n",
      "print '\\n>positional'\n",
      "lista = [1,2,3]\n",
      "print \"O segundo elemento \u00e9 {0[1]}\".format(lista)\n",
      "print \"O segunda elemento \u00e9 {[1]}\".format(lista)"
     ],
     "language": "python",
     "metadata": {},
     "outputs": [
      {
       "output_type": "stream",
       "stream": "stdout",
       "text": [
        "\n",
        ">positional\n",
        "O segundo elemento \u00e9 2\n",
        "O segunda elemento \u00e9 2\n"
       ]
      }
     ],
     "prompt_number": 7
    },
    {
     "cell_type": "code",
     "collapsed": false,
     "input": [
      "# type coercion\n",
      "print '\\n>type coercion'\n",
      "print \"{}\".format(ab)\n",
      "print \"{0!s}\".format(ab) # call str on the value\n",
      "print \"{ab!r}\".format(ab=ab) # call repr on the value"
     ],
     "language": "python",
     "metadata": {},
     "outputs": [
      {
       "output_type": "stream",
       "stream": "stdout",
       "text": [
        "\n",
        ">type coercion\n",
        "Meu nome \u00e9 Abelardo\n",
        "<__main__.Pessoa instance at 0x7f8d986e7560>\n",
        "<__main__.Pessoa instance at 0x7f8d986e7560>\n"
       ]
      }
     ],
     "prompt_number": 8
    },
    {
     "cell_type": "code",
     "collapsed": false,
     "input": [
      "# str(readable) != repr(unambiguous)\n",
      "print '\\n>str repr'\n",
      "print str(3)==str(\"3\")\n",
      "print repr(3)==repr(\"3\")"
     ],
     "language": "python",
     "metadata": {},
     "outputs": [
      {
       "output_type": "stream",
       "stream": "stdout",
       "text": [
        "\n",
        ">str repr\n",
        "True\n",
        "False\n"
       ]
      }
     ],
     "prompt_number": 9
    },
    {
     "cell_type": "heading",
     "level": 5,
     "metadata": {},
     "source": [
      "detalhes de formata\u00e7\u00e3o"
     ]
    },
    {
     "cell_type": "markdown",
     "metadata": {},
     "source": [
      "**format_spec** ::=  [ [ **fill** ] **align** ] [ **sign** ] [ **#** ] [ **0** ] [ **width** ] [ **,** ] [ **.precision** ] [ **type** ]"
     ]
    },
    {
     "cell_type": "code",
     "collapsed": false,
     "input": [
      "# fill\n",
      "print '>fill'\n",
      "print '{0:a>10}'.format('oi') # tamanho 10 com align \u00e0 direita\n",
      "print '{0:b<10}'.format('oi') # tamanho 10 com align \u00e0 esquerda\n",
      "print '{0:-^10}'.format('oi') # tamanho 10 centralizado\n",
      "print '{0:-^9}'.format('oi') # notar que se a quantidade de espa\u00e7os sobrando\n",
      "# for \u00edmpar, fica (n/2)-1 \u00e0 esquerda e n/2 \u00e0 direita\n",
      "print '{0:a=10}'.format(10) # completa depois do sinal\n",
      "print '{0:b=10}'.format(-10) # - apenas num\u00e9rico"
     ],
     "language": "python",
     "metadata": {},
     "outputs": [
      {
       "output_type": "stream",
       "stream": "stdout",
       "text": [
        ">fill\n",
        "aaaaaaaaoi\n",
        "oibbbbbbbb\n",
        "----oi----\n",
        "---oi----\n",
        "aaaaaaaa10\n",
        "-bbbbbbb10\n"
       ]
      }
     ],
     "prompt_number": 10
    },
    {
     "cell_type": "code",
     "collapsed": false,
     "input": [
      "# sign\n",
      "print '\\n>sign'\n",
      "print '{0:+}'.format(-10)\n",
      "print '{0:+}'.format(10) # sign + indica que deve-se adicionar o sinal tanto a n\u00fameros positivos quanto negativos\n",
      "print '{0:-}'.format(10) # s\u00f3 em negativo. default\n",
      "print 'a{0}'.format(10) # notar que o default n adiciona espa\u00e7o\n",
      "print 'a{0: }'.format(10) # sign space adiciona um espa\u00e7o antes do n\u00famero positivo. negativo adiciona o -"
     ],
     "language": "python",
     "metadata": {},
     "outputs": [
      {
       "output_type": "stream",
       "stream": "stdout",
       "text": [
        "\n",
        ">sign\n",
        "-10\n",
        "+10\n",
        "10\n",
        "a10\n",
        "a 10\n"
       ]
      }
     ],
     "prompt_number": 11
    },
    {
     "cell_type": "code",
     "collapsed": false,
     "input": [
      "# #\n",
      "print '\\n>#'\n",
      "print '{0:b}'.format(0b101010)\n",
      "print '{0:#b}'.format(0b101010)"
     ],
     "language": "python",
     "metadata": {},
     "outputs": [
      {
       "output_type": "stream",
       "stream": "stdout",
       "text": [
        "\n",
        ">#\n",
        "101010\n",
        "0b101010\n"
       ]
      }
     ],
     "prompt_number": 12
    },
    {
     "cell_type": "code",
     "collapsed": false,
     "input": [
      "# width\n",
      "print '\\n>width'\n",
      "print '{0:10}'.format('oi')\n",
      "print '{0:010}'.format(-10) # mesmo de fill ="
     ],
     "language": "python",
     "metadata": {},
     "outputs": [
      {
       "output_type": "stream",
       "stream": "stdout",
       "text": [
        "\n",
        ">width\n",
        "oi        \n",
        "-000000010\n"
       ]
      }
     ],
     "prompt_number": 13
    },
    {
     "cell_type": "code",
     "collapsed": false,
     "input": [
      "# precision\n",
      "print '\\n>precision'\n",
      "print '{0:.3f}'.format(10.123456)\n",
      "print '{0:.3g}'.format(10.123456)"
     ],
     "language": "python",
     "metadata": {},
     "outputs": [
      {
       "output_type": "stream",
       "stream": "stdout",
       "text": [
        "\n",
        ">precision\n",
        "10.123\n",
        "10.1\n"
       ]
      }
     ],
     "prompt_number": 14
    },
    {
     "cell_type": "code",
     "collapsed": false,
     "input": [
      "# type\n",
      "print '{0:s}'.format('10') # as string, default\n",
      "print '{0:b}'.format(0b101010)\n",
      "print '{0:c}'.format(120) # int > char\n",
      "print '{0:d}'.format(0b101010) # base 10\n",
      "print '{0:o}'.format(0o1010) # base 8\n",
      "print '{0:#o}'.format(0o1010)\n",
      "print '{0:d}'.format(0o1010)\n",
      "print '{0:x}'.format(0x101a) # base 16\n",
      "print '{0:X}'.format(0x101a) # base 16 alpha mai\u00fasculo\n",
      "\n",
      "print '{0:}'.format(1000000000) # locale independent\n",
      "import locale\n",
      "locale.setlocale(locale.LC_ALL, 'pt_BR.utf-8') # locale BR no meu sistema\n",
      "# usar locale -a no terminal para descobrir o que tem\n",
      "print '{0:n}'.format(1000000000) # locale dependent\n",
      "locale.setlocale(locale.LC_ALL, '') # voltando \u00e0 locale do sistema\n",
      "print '{0:,}'.format(1000000000) # ,\n",
      "\n",
      "print '{0:.1e}'.format(10**6)\n",
      "print '{0:.1E}'.format(10**6) # mesmo, mas mai\u00fasculo\n",
      "print '{0:f}'.format(1.234567890) # .6\n",
      "print '{0:.3g}'.format(1.237) # corta em 3 digitos e arredonda. funcionamento muito complexo, ver documenta\u00e7\u00e3o\n",
      "\n",
      "print '{0:.2%}'.format(0.2) # *100 e %"
     ],
     "language": "python",
     "metadata": {},
     "outputs": [
      {
       "output_type": "stream",
       "stream": "stdout",
       "text": [
        "10\n",
        "101010\n",
        "x\n",
        "42\n",
        "1010\n",
        "0o1010\n",
        "520\n",
        "101a\n",
        "101A\n",
        "1000000000\n",
        "1.000.000.000\n",
        "1,000,000,000\n",
        "1.0e+06\n",
        "1.0E+06\n",
        "1.234568\n",
        "1.24\n",
        "20.00%\n"
       ]
      }
     ],
     "prompt_number": 15
    },
    {
     "cell_type": "heading",
     "level": 4,
     "metadata": {},
     "source": [
      "Vantagens sobre o old style"
     ]
    },
    {
     "cell_type": "code",
     "collapsed": false,
     "input": [
      "print '{0} {1} {0}'.format('oi', 'ai')\n",
      "print '{}{}{}'.format(*[1,2,3])\n",
      "print '{oi} {ai}'.format(**{'oi':1, 'ai':2})\n",
      "print '{oi} {ai}'.format(oi=1, ai=2)\n",
      "print '{[2]}'.format(range(3))\n",
      "print 'repr {!r} str {!s}'.format('3', '3')\n",
      "print 'int: {0:d} hex: {0:x} oct: {0:o} bin: {0:b}'.format(42)\n",
      "print 'int: {0:d} hex: {0:#x} oct: {0:#o} bin: {0:#b}'.format(42)"
     ],
     "language": "python",
     "metadata": {},
     "outputs": [
      {
       "output_type": "stream",
       "stream": "stdout",
       "text": [
        "oi ai oi\n",
        "123\n",
        "1 2\n",
        "1 2\n",
        "2\n",
        "repr '3' str 3\n",
        "int: 42 hex: 2a oct: 52 bin: 101010\n",
        "int: 42 hex: 0x2a oct: 0o52 bin: 0b101010\n"
       ]
      }
     ],
     "prompt_number": 16
    },
    {
     "cell_type": "heading",
     "level": 4,
     "metadata": {},
     "source": [
      "..."
     ]
    },
    {
     "cell_type": "code",
     "collapsed": false,
     "input": [
      "print 'oi'*4\n",
      "print 'oi\\noi'\n",
      "print 'oi\\ri\\rhehe'"
     ],
     "language": "python",
     "metadata": {},
     "outputs": [
      {
       "output_type": "stream",
       "stream": "stdout",
       "text": [
        "oioioioi\n",
        "oi\n",
        "oi\n",
        "oi\r",
        "i\r",
        "hehe\n",
        "\f",
        "oi\u000b",
        "a\f",
        "\n"
       ]
      }
     ],
     "prompt_number": 36
    },
    {
     "cell_type": "code",
     "collapsed": false,
     "input": [],
     "language": "python",
     "metadata": {},
     "outputs": []
    }
   ],
   "metadata": {}
  }
 ]
}