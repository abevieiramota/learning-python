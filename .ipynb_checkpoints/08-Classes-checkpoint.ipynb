{
 "metadata": {
  "name": "",
  "signature": "sha256:ecbd9d376f5c483ef99984df7854e4bf21a11dc8a4faaffbdffb341affeb82db"
 },
 "nbformat": 3,
 "nbformat_minor": 0,
 "worksheets": [
  {
   "cells": [
    {
     "cell_type": "heading",
     "level": 4,
     "metadata": {},
     "source": [
      "Defini\u00e7\u00e3o"
     ]
    },
    {
     "cell_type": "code",
     "collapsed": false,
     "input": [
      "class Pessoa(object): # http://stackoverflow.com/questions/4015417/python-class-inherits-object\n",
      "    \n",
      "    def __init__(self, nome):\n",
      "        self.nome = nome\n",
      "        \n",
      "p = Pessoa('Abelardo Vieira Mota')\n",
      "p.nome"
     ],
     "language": "python",
     "metadata": {},
     "outputs": [
      {
       "metadata": {},
       "output_type": "pyout",
       "prompt_number": 3,
       "text": [
        "'Abelardo Vieira Mota'"
       ]
      }
     ],
     "prompt_number": 3
    },
    {
     "cell_type": "code",
     "collapsed": false,
     "input": [
      "class Empregado(Pessoa):\n",
      "    \n",
      "    def __init__(self, nome, cargo):\n",
      "        super(Empregado, self).__init__(nome)\n",
      "        self.cargo = cargo\n",
      "        \n",
      "p = Empregado('Abelardo', 'Analista')\n",
      "print '{0.nome} \u00e9 {0.cargo}'.format(p)"
     ],
     "language": "python",
     "metadata": {},
     "outputs": [
      {
       "output_type": "stream",
       "stream": "stdout",
       "text": [
        "Abelardo \u00e9 Analista\n"
       ]
      }
     ],
     "prompt_number": 9
    },
    {
     "cell_type": "heading",
     "level": 4,
     "metadata": {},
     "source": [
      "Override"
     ]
    },
    {
     "cell_type": "code",
     "collapsed": false,
     "input": [
      "class Override(object):\n",
      "    \n",
      "    def override(self):\n",
      "        print 'parent'\n",
      "\n",
      "class Hihi(Override):\n",
      "    \n",
      "    def override(self):\n",
      "        print 'filho'\n",
      "        \n",
      "a = Override()\n",
      "b = Hihi()\n",
      "a.override()\n",
      "b.override()"
     ],
     "language": "python",
     "metadata": {},
     "outputs": [
      {
       "output_type": "stream",
       "stream": "stdout",
       "text": [
        "parent\n",
        "filho\n"
       ]
      }
     ],
     "prompt_number": 10
    },
    {
     "cell_type": "heading",
     "level": 4,
     "metadata": {},
     "source": [
      "Call parent method"
     ]
    },
    {
     "cell_type": "code",
     "collapsed": false,
     "input": [
      "class Haha(Override):\n",
      "    \n",
      "    def override(self):\n",
      "        print 'papai>'\n",
      "        super(Haha, self).override()\n",
      "        print '<papai'\n",
      "c = Haha()\n",
      "c.override()"
     ],
     "language": "python",
     "metadata": {},
     "outputs": [
      {
       "output_type": "stream",
       "stream": "stdout",
       "text": [
        "papai>\n",
        "parent\n",
        "<papai\n"
       ]
      }
     ],
     "prompt_number": 12
    },
    {
     "cell_type": "code",
     "collapsed": false,
     "input": [],
     "language": "python",
     "metadata": {},
     "outputs": []
    }
   ],
   "metadata": {}
  }
 ]
}