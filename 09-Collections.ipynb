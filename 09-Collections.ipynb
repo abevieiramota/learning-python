{
 "metadata": {
  "name": "",
  "signature": "sha256:5337670f712b3cf571c6349d0f150f52d1b0d659bffcf210eb9f29f6ecf34731"
 },
 "nbformat": 3,
 "nbformat_minor": 0,
 "worksheets": [
  {
   "cells": [
    {
     "cell_type": "heading",
     "level": 1,
     "metadata": {},
     "source": [
      "OLHAR MELHOR"
     ]
    },
    {
     "cell_type": "heading",
     "level": 4,
     "metadata": {},
     "source": [
      "Defaultdict"
     ]
    },
    {
     "cell_type": "code",
     "collapsed": false,
     "input": [
      "from collections import defaultdict\n",
      "\n",
      "d = defaultdict(int)\n",
      "\n",
      "print d[182882]"
     ],
     "language": "python",
     "metadata": {},
     "outputs": [
      {
       "output_type": "stream",
       "stream": "stdout",
       "text": [
        "0\n"
       ]
      }
     ],
     "prompt_number": 1
    },
    {
     "cell_type": "heading",
     "level": 4,
     "metadata": {},
     "source": [
      "Namedtuple"
     ]
    },
    {
     "cell_type": "code",
     "collapsed": false,
     "input": [
      "from collections import namedtuple\n",
      "Point = namedtuple('Point', 'x y')\n",
      "p = Point(10, 20)\n",
      "print p.x, p.y"
     ],
     "language": "python",
     "metadata": {},
     "outputs": [
      {
       "output_type": "stream",
       "stream": "stdout",
       "text": [
        "10 20\n"
       ]
      }
     ],
     "prompt_number": 2
    },
    {
     "cell_type": "heading",
     "level": 4,
     "metadata": {},
     "source": [
      "Ordereddict"
     ]
    },
    {
     "cell_type": "code",
     "collapsed": false,
     "input": [
      "from collections import OrderedDict\n",
      "d = OrderedDict()\n",
      "keys = [3, 2, 5]\n",
      "for key in keys:\n",
      "    d[key] = key**2\n",
      "    \n",
      "print d.keys()"
     ],
     "language": "python",
     "metadata": {},
     "outputs": [
      {
       "output_type": "stream",
       "stream": "stdout",
       "text": [
        "[3, 2, 5]\n"
       ]
      }
     ],
     "prompt_number": 7
    },
    {
     "cell_type": "heading",
     "level": 4,
     "metadata": {},
     "source": [
      "Sets"
     ]
    },
    {
     "cell_type": "code",
     "collapsed": false,
     "input": [
      "a = set(range(10))\n",
      "b = set(x**2 for x in a)\n",
      "\n",
      "print 'uni\u00e3o', a|b\n",
      "print 'intersec\u00e7\u00e3o', a&b\n",
      "print 'diferen\u00e7a', a-b\n",
      "print 'diferen\u00e7a sim\u00e9trica', a^b\n",
      "print 'issubset', a.issubset(b)"
     ],
     "language": "python",
     "metadata": {},
     "outputs": [
      {
       "output_type": "stream",
       "stream": "stdout",
       "text": [
        "uni\u00e3o set([0, 1, 2, 3, 4, 5, 6, 7, 8, 9, 64, 16, 81, 25, 49, 36])\n",
        "intersec\u00e7\u00e3o set([0, 1, 4, 9])\n",
        "diferen\u00e7a set([2, 3, 5, 6, 7, 8])\n",
        "diferen\u00e7a sim\u00e9trica set([2, 3, 5, 6, 49, 64, 7, 16, 81, 8, 25, 36])\n",
        "issubset False\n"
       ]
      }
     ],
     "prompt_number": 10
    },
    {
     "cell_type": "code",
     "collapsed": false,
     "input": [],
     "language": "python",
     "metadata": {},
     "outputs": []
    }
   ],
   "metadata": {}
  }
 ]
}