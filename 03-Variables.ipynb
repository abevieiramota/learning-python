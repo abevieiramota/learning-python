{
 "metadata": {
  "name": "",
  "signature": "sha256:13f45c9771446bc31d56337f901fca3836cc40c5ebd94340fd0b524d0abfa47d"
 },
 "nbformat": 3,
 "nbformat_minor": 0,
 "worksheets": [
  {
   "cells": [
    {
     "cell_type": "heading",
     "level": 5,
     "metadata": {},
     "source": [
      "Assignment"
     ]
    },
    {
     "cell_type": "code",
     "collapsed": false,
     "input": [
      "a = 10\n",
      "b = 30\n",
      "c = a + b\n",
      "d = a\n",
      "\n",
      "print 'a', a\n",
      "print 'b', b\n",
      "print 'c', c\n",
      "print 'd', d"
     ],
     "language": "python",
     "metadata": {},
     "outputs": [
      {
       "output_type": "stream",
       "stream": "stdout",
       "text": [
        "a 10\n",
        "b 30\n",
        "c 40\n",
        "d 10\n"
       ]
      }
     ],
     "prompt_number": 2
    },
    {
     "cell_type": "code",
     "collapsed": false,
     "input": [],
     "language": "python",
     "metadata": {},
     "outputs": []
    }
   ],
   "metadata": {}
  }
 ]
}