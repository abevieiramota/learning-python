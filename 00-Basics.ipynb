{
 "metadata": {
  "name": "",
  "signature": "sha256:a203c73bfa32cb9256fdcdce18f718ac1dec75bfc708c83feea28c3ec7444196"
 },
 "nbformat": 3,
 "nbformat_minor": 0,
 "worksheets": [
  {
   "cells": [
    {
     "cell_type": "heading",
     "level": 4,
     "metadata": {},
     "source": [
      "Coment\u00e1rio"
     ]
    },
    {
     "cell_type": "code",
     "collapsed": false,
     "input": [
      "# isto \u00e9 um coment\u00e1rio de uma linha"
     ],
     "language": "python",
     "metadata": {},
     "outputs": [],
     "prompt_number": 1
    },
    {
     "cell_type": "code",
     "collapsed": false,
     "input": [],
     "language": "python",
     "metadata": {},
     "outputs": []
    }
   ],
   "metadata": {}
  }
 ]
}