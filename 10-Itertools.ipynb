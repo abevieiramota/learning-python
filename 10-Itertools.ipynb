{
 "metadata": {
  "name": "",
  "signature": "sha256:dce1a8f2a5a71f2ef34b105c7c6ec276229b6721fb0644cc730e1029c5f38eda"
 },
 "nbformat": 3,
 "nbformat_minor": 0,
 "worksheets": [
  {
   "cells": [
    {
     "cell_type": "heading",
     "level": 1,
     "metadata": {},
     "source": [
      "TODO"
     ]
    },
    {
     "cell_type": "code",
     "collapsed": false,
     "input": [],
     "language": "python",
     "metadata": {},
     "outputs": []
    }
   ],
   "metadata": {}
  }
 ]
}